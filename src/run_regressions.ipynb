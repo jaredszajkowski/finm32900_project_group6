{
 "cells": [
  {
   "cell_type": "markdown",
   "metadata": {},
   "source": [
    "# Run Regressions"
   ]
  },
  {
   "cell_type": "markdown",
   "metadata": {},
   "source": [
    "## Imports"
   ]
  },
  {
   "cell_type": "code",
   "execution_count": null,
   "metadata": {},
   "outputs": [],
   "source": [
    "import numpy as np\n",
    "import pandas as pd\n",
    "import os\n",
    "from matplotlib import pyplot as plt\n",
    "from settings import config\n",
    "from pathlib import Path\n",
    "import regressions\n",
    "from pandas_datareader.famafrench import get_available_datasets\n",
    "import pandas_datareader.data as web\n",
    "\n",
    "# Load environment variables\n",
    "DATA_DIR = Path(config(\"DATA_DIR\"))\n",
    "OUTPUT_DIR = Path(config(\"OUTPUT_DIR\"))\n",
    "WRDS_USERNAME = config(\"WRDS_USERNAME\")\n",
    "START_DATE = config(\"START_DATE\")\n",
    "END_DATE = config(\"END_DATE\")"
   ]
  },
  {
   "cell_type": "markdown",
   "metadata": {},
   "source": [
    "# Run Regressions for B/M ratios"
   ]
  },
  {
   "cell_type": "markdown",
   "metadata": {},
   "source": [
    "### 6 Portfolios\n",
    "#### Monthly Regressions"
   ]
  },
  {
   "cell_type": "code",
   "execution_count": null,
   "metadata": {},
   "outputs": [],
   "source": [
    "def regress():\n",
    "    portfolio_datasets = {\n",
    "        \"6-Portfolios\": \"6_Portfolios_2x3\"\n",
    "    }\n",
    "    results = {}\n",
    "    for label, dataset_name in portfolio_datasets.items():\n",
    "        print(f\"\\nProcessing {label} Data\")\n",
    "        in_sample = regressions.run_in_sample_pls(\n",
    "            dataset_name=dataset_name, \n",
    "            weighting=\"BE_FYt-1_to_ME_June_t\", \n",
    "            h=1, \n",
    "            end_date='1980-01-01')\n",
    "        recursive = regressions.run_recursive_forecast(\n",
    "            dataset_name=dataset_name, \n",
    "            weighting=\"BE_FYt-1_to_ME_June_t\", \n",
    "            h=1, \n",
    "            start_train_date='1930-01-01', \n",
    "            end_train_date='1980-01-01',\n",
    "            end_forecast_date='2011-01-01')\n",
    "        regressions.display_results(label, in_sample, recursive)\n",
    "\n",
    "        results[label] = {\n",
    "            \"R2 In-Sample\": in_sample[\"third_model\"].rsquared,  \n",
    "            \"R2 Out-of-Sample\": recursive[\"R2_oos\"]\n",
    "        }\n",
    "\n",
    "    return results\n",
    "\n",
    "# Run function and extract summary DataFrame\n",
    "results = regress()\n",
    "summary_df_6_monthly = pd.DataFrame(results).T \n",
    "\n",
    "# Display the DataFrame\n",
    "summary_df_6_monthly"
   ]
  },
  {
   "cell_type": "code",
   "execution_count": null,
   "metadata": {},
   "outputs": [],
   "source": [
    "# Define the directory and file path\n",
    "summary_tex_dir = \"../reports/tables\"\n",
    "summary_tex_path = os.path.join(summary_tex_dir, \"summary_table_6_monthly.tex\")\n",
    "\n",
    "# Ensure the directory exists\n",
    "os.makedirs(summary_tex_dir, exist_ok=True)\n",
    "\n",
    "# Export to LaTeX\n",
    "summary_df_6_monthly.to_latex(summary_tex_path, index=True, float_format=\"%.6f\")"
   ]
  },
  {
   "cell_type": "markdown",
   "metadata": {},
   "source": [
    "### 6 Portfolios\n",
    "#### Annual Regressions"
   ]
  },
  {
   "cell_type": "code",
   "execution_count": null,
   "metadata": {},
   "outputs": [],
   "source": [
    "def regress_annual():\n",
    "    portfolio_datasets = {\n",
    "        \"6-Portfolios\": \"6_Portfolios_2x3\"\n",
    "    }\n",
    "    results = {}\n",
    "    for label, dataset_name in portfolio_datasets.items():\n",
    "        print(f\"\\n[Annual] Processing {label} Data\")\n",
    "        in_sample_results = regressions.run_in_sample_pls_annual(\n",
    "            dataset_name=dataset_name,\n",
    "            weighting=\"BE_FYt-1_to_ME_June_t\",\n",
    "            h=1,\n",
    "            end_date='1980-01-01'\n",
    "        )\n",
    "        forecast_series, actual_series, R2_oos = regressions.run_recursive_forecast_annual(\n",
    "            dataset_name=dataset_name,\n",
    "            weighting=\"BE_FYt-1_to_ME_June_t\",\n",
    "            h=1,\n",
    "            start_train_year=1930,\n",
    "            end_train_year=1980,\n",
    "            end_forecast_year=2010,\n",
    "            n_components=1\n",
    "        )\n",
    "        regressions.display_results_annual(label, in_sample_results, forecast_series, actual_series, R2_oos)\n",
    "\n",
    "        results[label] = {\n",
    "            \"R2 In-Sample\": in_sample_results[\"third_model\"].rsquared,  \n",
    "            \"R2 Out-of-Sample\": R2_oos\n",
    "        }\n",
    "    \n",
    "    return results\n",
    "\n",
    "# Run function and extract summary DataFrame\n",
    "results_annual = regress_annual()\n",
    "summary_df_6_annual = pd.DataFrame(results_annual).T\n",
    "\n",
    "# Display the DataFrame\n",
    "summary_df_6_annual\n"
   ]
  },
  {
   "cell_type": "code",
   "execution_count": null,
   "metadata": {},
   "outputs": [],
   "source": [
    "# Define the directory and file path\n",
    "summary_tex_dir = \"../reports/tables\"\n",
    "summary_tex_path = os.path.join(summary_tex_dir, \"summary_table_6_annual.tex\")\n",
    "\n",
    "# Ensure the directory exists\n",
    "os.makedirs(summary_tex_dir, exist_ok=True)\n",
    "\n",
    "# Export to LaTeX\n",
    "summary_df_6_annual.to_latex(summary_tex_path, index=True, float_format=\"%.6f\")"
   ]
  },
  {
   "cell_type": "markdown",
   "metadata": {},
   "source": [
    "### 25 Portfolios\n",
    "#### Monthly Regressions"
   ]
  },
  {
   "cell_type": "code",
   "execution_count": null,
   "metadata": {},
   "outputs": [],
   "source": [
    "def regress():\n",
    "    portfolio_datasets = {\n",
    "        \"25-Portfolios\": \"25_Portfolios_5x5\"\n",
    "    }\n",
    "    results = {}\n",
    "    for label, dataset_name in portfolio_datasets.items():\n",
    "        print(f\"\\nProcessing {label} Data\")\n",
    "        in_sample = regressions.run_in_sample_pls(\n",
    "            dataset_name=dataset_name, \n",
    "            weighting=\"BE_FYt-1_to_ME_June_t\", \n",
    "            h=1, \n",
    "            end_date='1980-01-01')\n",
    "        recursive = regressions.run_recursive_forecast(\n",
    "            dataset_name=dataset_name, \n",
    "            weighting=\"BE_FYt-1_to_ME_June_t\", \n",
    "            h=1, \n",
    "            start_train_date='1930-01-01', \n",
    "            end_train_date='1980-01-01',\n",
    "            end_forecast_date='2011-01-01')\n",
    "        regressions.display_results(label, in_sample, recursive)\n",
    "\n",
    "        results[label] = {\n",
    "            \"R2 In-Sample\": in_sample[\"third_model\"].rsquared,  \n",
    "            \"R2 Out-of-Sample\": recursive[\"R2_oos\"]\n",
    "        }\n",
    "\n",
    "    return results\n",
    "\n",
    "# Run function and extract summary DataFrame\n",
    "results = regress()\n",
    "summary_df_25_monthly = pd.DataFrame(results).T \n",
    "\n",
    "# Display the DataFrame\n",
    "summary_df_25_monthly"
   ]
  },
  {
   "cell_type": "code",
   "execution_count": null,
   "metadata": {},
   "outputs": [],
   "source": [
    "# Define the directory and file path\n",
    "summary_tex_dir = \"../reports/tables\"\n",
    "summary_tex_path = os.path.join(summary_tex_dir, \"summary_table_25_monthly.tex\")\n",
    "\n",
    "# Ensure the directory exists\n",
    "os.makedirs(summary_tex_dir, exist_ok=True)\n",
    "\n",
    "# Export to LaTeX\n",
    "summary_df_25_monthly.to_latex(summary_tex_path, index=True, float_format=\"%.6f\")"
   ]
  },
  {
   "cell_type": "markdown",
   "metadata": {},
   "source": [
    "### 25 Portfolios\n",
    "#### Annual Regressions"
   ]
  },
  {
   "cell_type": "code",
   "execution_count": null,
   "metadata": {},
   "outputs": [],
   "source": [
    "def regress_annual():\n",
    "    portfolio_datasets = {\n",
    "        \"25-Portfolios\": \"25_Portfolios_5x5\"\n",
    "    }\n",
    "    results = {}\n",
    "    for label, dataset_name in portfolio_datasets.items():\n",
    "        print(f\"\\n[Annual] Processing {label} Data\")\n",
    "        in_sample_results = regressions.run_in_sample_pls_annual(\n",
    "            dataset_name=dataset_name,\n",
    "            weighting=\"BE_FYt-1_to_ME_June_t\",\n",
    "            h=1,\n",
    "            end_date='1980-01-01'\n",
    "        )\n",
    "        forecast_series, actual_series, R2_oos = regressions.run_recursive_forecast_annual(\n",
    "            dataset_name=dataset_name,\n",
    "            weighting=\"BE_FYt-1_to_ME_June_t\",\n",
    "            h=1,\n",
    "            start_train_year=1930,\n",
    "            end_train_year=1980,\n",
    "            end_forecast_year=2010,\n",
    "            n_components=1\n",
    "        )\n",
    "        regressions.display_results_annual(label, in_sample_results, forecast_series, actual_series, R2_oos)\n",
    "\n",
    "        results[label] = {\n",
    "            \"R2 In-Sample\": in_sample_results[\"third_model\"].rsquared,  \n",
    "            \"R2 Out-of-Sample\": R2_oos\n",
    "        }\n",
    "    \n",
    "    return results\n",
    "\n",
    "# Run function and extract summary DataFrame\n",
    "results_annual = regress_annual()\n",
    "summary_df_25_annual = pd.DataFrame(results_annual).T\n",
    "\n",
    "# Display the DataFrame\n",
    "summary_df_25_annual"
   ]
  },
  {
   "cell_type": "code",
   "execution_count": null,
   "metadata": {},
   "outputs": [],
   "source": [
    "# Define the directory and file path\n",
    "summary_tex_dir = \"../reports/tables\"\n",
    "summary_tex_path = os.path.join(summary_tex_dir, \"summary_table_25_annual.tex\")\n",
    "\n",
    "# Ensure the directory exists\n",
    "os.makedirs(summary_tex_dir, exist_ok=True)\n",
    "\n",
    "# Export to LaTeX\n",
    "summary_df_25_annual.to_latex(summary_tex_path, index=True, float_format=\"%.6f\")"
   ]
  },
  {
   "cell_type": "markdown",
   "metadata": {},
   "source": [
    "### 100 Portfolios\n",
    "#### Monthly Regressions"
   ]
  },
  {
   "cell_type": "code",
   "execution_count": null,
   "metadata": {},
   "outputs": [],
   "source": [
    "def regress():\n",
    "    portfolio_datasets = {\n",
    "        \"100-Portfolios\": \"100_Portfolios_10x10\"\n",
    "    }\n",
    "    results = {}\n",
    "    for label, dataset_name in portfolio_datasets.items():\n",
    "        print(f\"\\nProcessing {label} Data\")\n",
    "        in_sample = regressions.run_in_sample_pls(\n",
    "            dataset_name=dataset_name, \n",
    "            weighting=\"BE_FYt-1_to_ME_June_t\", \n",
    "            h=1, \n",
    "            end_date='1980-01-01')\n",
    "        recursive = regressions.run_recursive_forecast(\n",
    "            dataset_name=dataset_name, \n",
    "            weighting=\"BE_FYt-1_to_ME_June_t\", \n",
    "            h=1, \n",
    "            start_train_date='1930-01-01', \n",
    "            end_train_date='1980-01-01',\n",
    "            end_forecast_date='2011-01-01')\n",
    "        regressions.display_results(label, in_sample, recursive)\n",
    "\n",
    "        results[label] = {\n",
    "            \"R2 In-Sample\": in_sample[\"third_model\"].rsquared,  \n",
    "            \"R2 Out-of-Sample\": recursive[\"R2_oos\"]\n",
    "        }\n",
    "\n",
    "    return results\n",
    "\n",
    "# Run function and extract summary DataFrame\n",
    "results = regress()\n",
    "summary_df_100_monthly = pd.DataFrame(results).T \n",
    "\n",
    "# Display the DataFrame\n",
    "summary_df_100_monthly"
   ]
  },
  {
   "cell_type": "code",
   "execution_count": null,
   "metadata": {},
   "outputs": [],
   "source": [
    "# Define the directory and file path\n",
    "summary_tex_dir = \"../reports/tables\"\n",
    "summary_tex_path = os.path.join(summary_tex_dir, \"summary_table_100_monthly.tex\")\n",
    "\n",
    "# Ensure the directory exists\n",
    "os.makedirs(summary_tex_dir, exist_ok=True)\n",
    "\n",
    "# Export to LaTeX\n",
    "summary_df_100_monthly.to_latex(summary_tex_path, index=True, float_format=\"%.6f\")"
   ]
  },
  {
   "cell_type": "markdown",
   "metadata": {},
   "source": [
    "### 100 Portfolios\n",
    "#### Annual Regressions"
   ]
  },
  {
   "cell_type": "code",
   "execution_count": null,
   "metadata": {},
   "outputs": [],
   "source": [
    "def regress_annual():\n",
    "    portfolio_datasets = {\n",
    "        \"100-Portfolios\": \"100_Portfolios_10x10\"\n",
    "    }\n",
    "    results = {}\n",
    "    for label, dataset_name in portfolio_datasets.items():\n",
    "        print(f\"\\n[Annual] Processing {label} Data\")\n",
    "        in_sample_results = regressions.run_in_sample_pls_annual(\n",
    "            dataset_name=dataset_name,\n",
    "            weighting=\"BE_FYt-1_to_ME_June_t\",\n",
    "            h=1,\n",
    "            end_date='1980-01-01'\n",
    "        )\n",
    "        forecast_series, actual_series, R2_oos = regressions.run_recursive_forecast_annual(\n",
    "            dataset_name=dataset_name,\n",
    "            weighting=\"BE_FYt-1_to_ME_June_t\",\n",
    "            h=1,\n",
    "            start_train_year=1930,\n",
    "            end_train_year=1980,\n",
    "            end_forecast_year=2010,\n",
    "            n_components=1\n",
    "        )\n",
    "        regressions.display_results_annual(label, in_sample_results, forecast_series, actual_series, R2_oos)\n",
    "\n",
    "        results[label] = {\n",
    "            \"R2 In-Sample\": in_sample_results[\"third_model\"].rsquared,  \n",
    "            \"R2 Out-of-Sample\": R2_oos\n",
    "        }\n",
    "    \n",
    "    return results\n",
    "\n",
    "# Run function and extract summary DataFrame\n",
    "results_annual = regress_annual()\n",
    "summary_df_100_annual = pd.DataFrame(results_annual).T\n",
    "\n",
    "# Display the DataFrame\n",
    "summary_df_100_annual"
   ]
  },
  {
   "cell_type": "code",
   "execution_count": null,
   "metadata": {},
   "outputs": [],
   "source": [
    "# Define the directory and file path\n",
    "summary_tex_dir = \"../reports/tables\"\n",
    "summary_tex_path = os.path.join(summary_tex_dir, \"summary_table_100_annual.tex\")\n",
    "\n",
    "# Ensure the directory exists\n",
    "os.makedirs(summary_tex_dir, exist_ok=True)\n",
    "\n",
    "# Export to LaTeX\n",
    "summary_df_100_annual.to_latex(summary_tex_path, index=True, float_format=\"%.6f\")"
   ]
  },
  {
   "cell_type": "code",
   "execution_count": null,
   "metadata": {},
   "outputs": [],
   "source": []
  }
 ],
 "metadata": {
  "language_info": {
   "name": "python"
  }
 },
 "nbformat": 4,
 "nbformat_minor": 4
}
