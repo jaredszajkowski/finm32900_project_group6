{
 "cells": [
  {
   "cell_type": "markdown",
   "metadata": {},
   "source": [
    "# Market Expectations In The Cross-Section Of Present Values\n",
    "## FINM 32900 Final Project - Group 6"
   ]
  },
  {
   "cell_type": "markdown",
   "metadata": {},
   "source": [
    "## Imports"
   ]
  },
  {
   "cell_type": "code",
   "execution_count": null,
   "metadata": {},
   "outputs": [],
   "source": [
    "import numpy as np\n",
    "import pandas as pd\n",
    "import sys\n",
    "import os\n",
    "\n",
    "from matplotlib import pyplot as plt\n",
    "from settings import config\n",
    "from pathlib import Path\n",
    "import load_data\n",
    "import regressions\n",
    "import pull_CRSP_index\n",
    "import pull_ken_french_data\n",
    "from pandas_datareader.famafrench import get_available_datasets\n",
    "import pandas_datareader.data as web\n",
    "\n",
    "# Load environment variables\n",
    "DATA_DIR = Path(config(\"DATA_DIR\"))\n",
    "OUTPUT_DIR = Path(config(\"OUTPUT_DIR\"))\n",
    "WRDS_USERNAME = config(\"WRDS_USERNAME\")\n",
    "START_DATE = config(\"START_DATE\")\n",
    "END_DATE = config(\"END_DATE\")"
   ]
  },
  {
   "cell_type": "markdown",
   "metadata": {},
   "source": [
    "## Acquire Data\n",
    "\n",
    "### Step 1: Fama-French Data"
   ]
  },
  {
   "cell_type": "markdown",
   "metadata": {},
   "source": [
    "We can initially investigate the available datasets with the following code:"
   ]
  },
  {
   "cell_type": "code",
   "execution_count": null,
   "metadata": {},
   "outputs": [],
   "source": [
    "get_available_datasets()"
   ]
  },
  {
   "cell_type": "markdown",
   "metadata": {},
   "source": [
    "This gives us the full list of available Fama-French data sets. From the paper we are instructed that the \"sets of predictor variables are 6, 25, and 100 book-to\n",
    "market ratios of size- and value-sorted portfolios\", which would be:\n",
    "\n",
    "* 6_Portfolios_2x3\n",
    "* 25_Portfolios_5x5\n",
    "* 100_Portfolios_10x10"
   ]
  },
  {
   "cell_type": "markdown",
   "metadata": {},
   "source": [
    "#### Pulling Ken French data"
   ]
  },
  {
   "cell_type": "markdown",
   "metadata": {},
   "source": [
    "Using the pull_ken_french_excel function from the pull_ken_french_data.py file, we can pull the data and save ax excel files to the \"_data\" directory:"
   ]
  },
  {
   "cell_type": "code",
   "execution_count": null,
   "metadata": {},
   "outputs": [],
   "source": [
    "bm_6_portfolios = pull_ken_french_data.pull_ken_french_excel(dataset_name=\"6_Portfolios_2x3\",\n",
    "     data_dir=DATA_DIR,\n",
    "     log=True,\n",
    "     start_date=START_DATE,\n",
    "     end_date=END_DATE)\n",
    "\n",
    "bm_25_portfolios = pull_ken_french_data.pull_ken_french_excel(dataset_name=\"25_Portfolios_5x5\",\n",
    "     data_dir=DATA_DIR,\n",
    "     log=True,\n",
    "     start_date=START_DATE,\n",
    "     end_date=END_DATE)\n",
    "\n",
    "bm_100_portfolios = pull_ken_french_data.pull_ken_french_excel(dataset_name=\"100_Portfolios_10x10\",\n",
    "     data_dir=DATA_DIR,\n",
    "     log=True,\n",
    "     start_date=START_DATE,\n",
    "     end_date=END_DATE)"
   ]
  },
  {
   "cell_type": "markdown",
   "metadata": {},
   "source": [
    "We can then load the data using the load_ken_french function:"
   ]
  },
  {
   "cell_type": "code",
   "execution_count": null,
   "metadata": {},
   "outputs": [],
   "source": [
    "bm_6_portfolios = load_data.load_ken_french()\n",
    "bm_6_portfolios.head()"
   ]
  },
  {
   "cell_type": "markdown",
   "metadata": {},
   "source": [
    "### Step 2: CRSP Market Capitalization Weighted Index Data"
   ]
  },
  {
   "cell_type": "markdown",
   "metadata": {},
   "source": [
    "Next, we need to acquire the CRSP return data for the market capitalization weighted index data:"
   ]
  },
  {
   "cell_type": "code",
   "execution_count": null,
   "metadata": {},
   "outputs": [],
   "source": [
    "crsp = pull_CRSP_index.pull_crsp_value_weighted_index()"
   ]
  },
  {
   "cell_type": "markdown",
   "metadata": {},
   "source": [
    "And then load that data to see the data set:"
   ]
  },
  {
   "cell_type": "code",
   "execution_count": null,
   "metadata": {},
   "outputs": [],
   "source": [
    "crsp_loaded = load_data.load_crsp_index()\n",
    "crsp_loaded.head()"
   ]
  },
  {
   "cell_type": "markdown",
   "metadata": {},
   "source": [
    "# Partial Least Squares Regressions For Valuations vs Returns"
   ]
  },
  {
   "cell_type": "markdown",
   "metadata": {},
   "source": [
    "Once we have the data sources identified and the data acquired, we need to set up the partial least squares regressions to regress the valuations (book-to-market ratios) vs the CRSP value weighted returns. We start with the in-sample series of regressions for the 6 portfolio monthly and annual data followed by the recursive forecast, as follows."
   ]
  },
  {
   "cell_type": "markdown",
   "metadata": {},
   "source": [
    "The academic paper provides guidance on how to set up the partial least squares (PLS) regressions, specifically:\n",
    "\n",
    "\"Let time indices represent months. Consider a forecast for the return rτ +12 that is realized over the 12-month period t + 1 to t + 12. First-stage regres-\n",
    "sions have annual returns on the right-hand side, so the regression takes the form:\n",
    "\n",
    "vi,τ = φ̂i,0 + φ̂i rτ +12 + ei,τ\"\n",
    "\n",
    "Then:\n",
    "\n",
    "\"The second-stage cross-section regressions are run for months 1, . . . , t − 12, and t. The data for these regressions are value ratios up to date t, and φ̂i , which is t-measurable. The factor estimates F̂1 , . . . , F̂t−12 are used for the third-stage regression, and the factor estimate for month t at F̂t is used to construct the out-of-sample forecast (not as an observation in the third-stage regression). The third-stage regression takes the form\n",
    "\n",
    "rτ +12 = β0 + β F̂τ + uτ +12\""
   ]
  },
  {
   "cell_type": "markdown",
   "metadata": {},
   "source": [
    "### 6 Portfolios\n",
    "\n",
    "We can then run the regressions for the 6 portfolio monthly values as follows:\n",
    "\n",
    "#### Monthly Regressions"
   ]
  },
  {
   "cell_type": "markdown",
   "metadata": {},
   "source": [
    "```python\n",
    "def regress():\n",
    "    portfolio_datasets = {\n",
    "        \"6-Portfolios\": \"6_Portfolios_2x3\"\n",
    "    }\n",
    "    results = {}\n",
    "    for label, dataset_name in portfolio_datasets.items():\n",
    "        print(f\"\\nProcessing {label} Data\")\n",
    "        in_sample = regressions.run_in_sample_pls(\n",
    "            dataset_name=dataset_name, \n",
    "            weighting=\"BE_FYt-1_to_ME_June_t\", \n",
    "            h=1, \n",
    "            end_date='1980-01-01')\n",
    "        recursive = regressions.run_recursive_forecast(\n",
    "            dataset_name=dataset_name, \n",
    "            weighting=\"BE_FYt-1_to_ME_June_t\", \n",
    "            h=1, \n",
    "            start_train_date='1930-01-01', \n",
    "            end_train_date='1980-01-01',\n",
    "            end_forecast_date='2011-01-01')\n",
    "        regressions.display_results(label, in_sample, recursive)\n",
    "\n",
    "        results[label] = {\n",
    "            \"R2 In-Sample\": in_sample[\"third_model\"].rsquared,  \n",
    "            \"R2 Out-of-Sample\": recursive[\"R2_oos\"]\n",
    "        }\n",
    "\n",
    "    return results\n",
    "\n",
    "# Run function and extract summary DataFrame\n",
    "results = regress()\n",
    "summary_df_6_monthly = pd.DataFrame(results).T \n",
    "\n",
    "# Display the DataFrame\n",
    "summary_df_6_monthly\n",
    "```"
   ]
  },
  {
   "cell_type": "markdown",
   "metadata": {},
   "source": [
    "Our function outputs the plot of the predicated out-of-sample values vs the observed values, as well as a table which is included in the \"project.pdf\" project summary paper.\n",
    "\n",
    "```python\n",
    "# Define the directory and file path\n",
    "summary_tex_dir = \"../reports/tables\"\n",
    "summary_tex_path = os.path.join(summary_tex_dir, \"summary_table_6_monthly.tex\")\n",
    "\n",
    "# Ensure the directory exists\n",
    "os.makedirs(summary_tex_dir, exist_ok=True)\n",
    "\n",
    "# Export to LaTeX\n",
    "summary_df_6_monthly.to_latex(summary_tex_path, index=True, float_format=\"%.6f\")\n",
    "```"
   ]
  },
  {
   "cell_type": "markdown",
   "metadata": {},
   "source": [
    "### 6 Portfolios\n",
    "\n",
    "And in a similar manner, the regressions for the 6 portfolio annual values:\n",
    "\n",
    "#### Annual Regressions"
   ]
  },
  {
   "cell_type": "markdown",
   "metadata": {},
   "source": [
    "```python\n",
    "def regress_annual():\n",
    "    portfolio_datasets = {\n",
    "        \"6-Portfolios\": \"6_Portfolios_2x3\"\n",
    "    }\n",
    "    results = {}\n",
    "    for label, dataset_name in portfolio_datasets.items():\n",
    "        print(f\"\\n[Annual] Processing {label} Data\")\n",
    "        in_sample_results = regressions.run_in_sample_pls_annual(\n",
    "            dataset_name=dataset_name,\n",
    "            weighting=\"BE_FYt-1_to_ME_June_t\",\n",
    "            h=1,\n",
    "            end_date='1980-01-01'\n",
    "        )\n",
    "        forecast_series, actual_series, R2_oos = regressions.run_recursive_forecast_annual(\n",
    "            dataset_name=dataset_name,\n",
    "            weighting=\"BE_FYt-1_to_ME_June_t\",\n",
    "            h=1,\n",
    "            start_train_year=1930,\n",
    "            end_train_year=1980,\n",
    "            end_forecast_year=2010,\n",
    "            n_components=1\n",
    "        )\n",
    "        regressions.display_results_annual(label, in_sample_results, forecast_series, actual_series, R2_oos)\n",
    "\n",
    "        results[label] = {\n",
    "            \"R2 In-Sample\": in_sample_results[\"third_model\"].rsquared,  \n",
    "            \"R2 Out-of-Sample\": R2_oos\n",
    "        }\n",
    "    \n",
    "    return results\n",
    "\n",
    "# Run function and extract summary DataFrame\n",
    "results_annual = regress_annual()\n",
    "summary_df_6_annual = pd.DataFrame(results_annual).T\n",
    "\n",
    "# Display the DataFrame\n",
    "summary_df_6_annual\n",
    "```\n"
   ]
  },
  {
   "cell_type": "markdown",
   "metadata": {},
   "source": [
    "once again, the plot with the predicted vs observed return values as well as the final in-sample and out-of-sample values are export for inclusion in the final summary paper."
   ]
  },
  {
   "cell_type": "markdown",
   "metadata": {},
   "source": [
    "```python\n",
    "# Define the directory and file path\n",
    "summary_tex_dir = \"../reports/tables\"\n",
    "summary_tex_path = os.path.join(summary_tex_dir, \"summary_table_6_annual.tex\")\n",
    "\n",
    "# Ensure the directory exists\n",
    "os.makedirs(summary_tex_dir, exist_ok=True)\n",
    "\n",
    "# Export to LaTeX\n",
    "summary_df_6_annual.to_latex(summary_tex_path, index=True, float_format=\"%.6f\")\n",
    "```"
   ]
  },
  {
   "cell_type": "markdown",
   "metadata": {},
   "source": [
    "### 25 Portfolios\n",
    "\n",
    "We confinue with the regressions for the 25 portfolio monthly and annual values:\n",
    "\n",
    "#### Monthly Regressions"
   ]
  },
  {
   "cell_type": "markdown",
   "metadata": {},
   "source": [
    "```python\n",
    "portfolio_datasets = {\n",
    "    \"25-Portfolios\": \"25_Portfolios_5x5\"\n",
    "}\n",
    "```"
   ]
  },
  {
   "cell_type": "markdown",
   "metadata": {},
   "source": [
    "#### Annual Regressions"
   ]
  },
  {
   "cell_type": "markdown",
   "metadata": {},
   "source": [
    "```python\n",
    "portfolio_datasets = {\n",
    "    \"25-Portfolios\": \"25_Portfolios_5x5\"\n",
    "}\n",
    "```"
   ]
  },
  {
   "cell_type": "markdown",
   "metadata": {},
   "source": [
    "### 100 Portfolios\n",
    "\n",
    "Finally, the regressions for the 100 portfolio monthly and annual values:\n",
    "\n",
    "#### Monthly Regressions"
   ]
  },
  {
   "cell_type": "markdown",
   "metadata": {},
   "source": [
    "```python\n",
    "portfolio_datasets = {\n",
    "    \"100-Portfolios\": \"100_Portfolios_10x10\"\n",
    "}\n",
    "```"
   ]
  },
  {
   "cell_type": "markdown",
   "metadata": {},
   "source": [
    "#### Annual Regressions"
   ]
  },
  {
   "cell_type": "markdown",
   "metadata": {},
   "source": [
    "```python\n",
    "portfolio_datasets = {\n",
    "    \"100-Portfolios\": \"100_Portfolios_10x10\"\n",
    "}\n",
    "```"
   ]
  }
 ],
 "metadata": {
  "language_info": {
   "name": "python"
  }
 },
 "nbformat": 4,
 "nbformat_minor": 4
}
